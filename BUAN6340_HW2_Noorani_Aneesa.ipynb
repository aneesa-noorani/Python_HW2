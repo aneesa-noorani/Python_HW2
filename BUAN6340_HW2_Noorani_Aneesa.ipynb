{
 "cells": [
  {
   "cell_type": "markdown",
   "metadata": {},
   "source": [
    "# Assignment 2\n",
    "## Programming for Data Science (BUAN 6340)\n"
   ]
  },
  {
   "cell_type": "markdown",
   "metadata": {},
   "source": [
    "Deliverables:\n",
    "\n",
    "- Write down your codes in the given cells described in this file, denoted as \"YOUR CODES\"\n",
    "- Use \"download as\" in the \"file\" menu to convert your ipython file to a .html file\n",
    "- Submit both .ipynb and .html files to the eLearning (you might need to compress them into one single file)\n",
    "\n",
    "\n",
    "This assignment covers data manipulation and visualization\n",
    "\n",
    "\n",
    "The total score: 100"
   ]
  },
  {
   "cell_type": "code",
   "execution_count": 1,
   "metadata": {},
   "outputs": [],
   "source": [
    "NAME = \"Aneesa Noorani\"\n",
    "Session = \"003\""
   ]
  },
  {
   "cell_type": "markdown",
   "metadata": {},
   "source": [
    "In this assignment, we will explore an economic indicator [dataset](https://www.kaggle.com/worldbank/world-development-indicators). \n",
    "\n",
    "Please downloand **indicator.csv** from eLearning."
   ]
  },
  {
   "cell_type": "code",
   "execution_count": 2,
   "metadata": {},
   "outputs": [],
   "source": [
    "import numpy as np\n",
    "import pandas as pd\n",
    "import matplotlib.pyplot as plt\n",
    "\n",
    "from IPython.core.interactiveshell import InteractiveShell\n",
    "InteractiveShell.ast_node_interactivity = \"all\""
   ]
  },
  {
   "cell_type": "code",
   "execution_count": 3,
   "metadata": {},
   "outputs": [
    {
     "data": {
      "text/plain": [
       "(5656458, 6)"
      ]
     },
     "execution_count": 3,
     "metadata": {},
     "output_type": "execute_result"
    }
   ],
   "source": [
    "#Import data\n",
    "world = pd.read_csv('Indicators.csv')\n",
    "world.shape"
   ]
  },
  {
   "cell_type": "code",
   "execution_count": 4,
   "metadata": {},
   "outputs": [
    {
     "data": {
      "text/html": [
       "<div>\n",
       "<style scoped>\n",
       "    .dataframe tbody tr th:only-of-type {\n",
       "        vertical-align: middle;\n",
       "    }\n",
       "\n",
       "    .dataframe tbody tr th {\n",
       "        vertical-align: top;\n",
       "    }\n",
       "\n",
       "    .dataframe thead th {\n",
       "        text-align: right;\n",
       "    }\n",
       "</style>\n",
       "<table border=\"1\" class=\"dataframe\">\n",
       "  <thead>\n",
       "    <tr style=\"text-align: right;\">\n",
       "      <th></th>\n",
       "      <th>CountryName</th>\n",
       "      <th>CountryCode</th>\n",
       "      <th>IndicatorName</th>\n",
       "      <th>IndicatorCode</th>\n",
       "      <th>Year</th>\n",
       "      <th>Value</th>\n",
       "    </tr>\n",
       "  </thead>\n",
       "  <tbody>\n",
       "    <tr>\n",
       "      <th>0</th>\n",
       "      <td>Arab World</td>\n",
       "      <td>ARB</td>\n",
       "      <td>Adolescent fertility rate (births per 1,000 wo...</td>\n",
       "      <td>SP.ADO.TFRT</td>\n",
       "      <td>1960</td>\n",
       "      <td>1.335609e+02</td>\n",
       "    </tr>\n",
       "    <tr>\n",
       "      <th>1</th>\n",
       "      <td>Arab World</td>\n",
       "      <td>ARB</td>\n",
       "      <td>Age dependency ratio (% of working-age populat...</td>\n",
       "      <td>SP.POP.DPND</td>\n",
       "      <td>1960</td>\n",
       "      <td>8.779760e+01</td>\n",
       "    </tr>\n",
       "    <tr>\n",
       "      <th>2</th>\n",
       "      <td>Arab World</td>\n",
       "      <td>ARB</td>\n",
       "      <td>Age dependency ratio, old (% of working-age po...</td>\n",
       "      <td>SP.POP.DPND.OL</td>\n",
       "      <td>1960</td>\n",
       "      <td>6.634579e+00</td>\n",
       "    </tr>\n",
       "    <tr>\n",
       "      <th>3</th>\n",
       "      <td>Arab World</td>\n",
       "      <td>ARB</td>\n",
       "      <td>Age dependency ratio, young (% of working-age ...</td>\n",
       "      <td>SP.POP.DPND.YG</td>\n",
       "      <td>1960</td>\n",
       "      <td>8.102333e+01</td>\n",
       "    </tr>\n",
       "    <tr>\n",
       "      <th>4</th>\n",
       "      <td>Arab World</td>\n",
       "      <td>ARB</td>\n",
       "      <td>Arms exports (SIPRI trend indicator values)</td>\n",
       "      <td>MS.MIL.XPRT.KD</td>\n",
       "      <td>1960</td>\n",
       "      <td>3.000000e+06</td>\n",
       "    </tr>\n",
       "  </tbody>\n",
       "</table>\n",
       "</div>"
      ],
      "text/plain": [
       "  CountryName CountryCode                                      IndicatorName  \\\n",
       "0  Arab World         ARB  Adolescent fertility rate (births per 1,000 wo...   \n",
       "1  Arab World         ARB  Age dependency ratio (% of working-age populat...   \n",
       "2  Arab World         ARB  Age dependency ratio, old (% of working-age po...   \n",
       "3  Arab World         ARB  Age dependency ratio, young (% of working-age ...   \n",
       "4  Arab World         ARB        Arms exports (SIPRI trend indicator values)   \n",
       "\n",
       "    IndicatorCode  Year         Value  \n",
       "0     SP.ADO.TFRT  1960  1.335609e+02  \n",
       "1     SP.POP.DPND  1960  8.779760e+01  \n",
       "2  SP.POP.DPND.OL  1960  6.634579e+00  \n",
       "3  SP.POP.DPND.YG  1960  8.102333e+01  \n",
       "4  MS.MIL.XPRT.KD  1960  3.000000e+06  "
      ]
     },
     "execution_count": 4,
     "metadata": {},
     "output_type": "execute_result"
    }
   ],
   "source": [
    "world.head()"
   ]
  },
  {
   "cell_type": "markdown",
   "metadata": {},
   "source": [
    "## Part I: Initial Exploration (18 points)"
   ]
  },
  {
   "cell_type": "markdown",
   "metadata": {},
   "source": [
    "**Use <font color='red'>one or two</font> lines to answer each of the following <font color='red'>FIVE</font> questions**\n",
    "\n",
    "Hint: https://pandas.pydata.org/pandas-docs/stable/reference/api/pandas.unique.html"
   ]
  },
  {
   "cell_type": "markdown",
   "metadata": {},
   "source": [
    "**Q1.1** How many UNIQUE country names are there? (3 points)"
   ]
  },
  {
   "cell_type": "code",
   "execution_count": 5,
   "metadata": {},
   "outputs": [
    {
     "data": {
      "text/plain": [
       "247"
      ]
     },
     "execution_count": 5,
     "metadata": {},
     "output_type": "execute_result"
    }
   ],
   "source": [
    "# YOUR CODES\n",
    "world['CountryName'].nunique()"
   ]
  },
  {
   "cell_type": "markdown",
   "metadata": {},
   "source": [
    "**Q1.2** How many years of data do we have? (3 points)"
   ]
  },
  {
   "cell_type": "code",
   "execution_count": 6,
   "metadata": {},
   "outputs": [
    {
     "data": {
      "text/plain": [
       "56"
      ]
     },
     "execution_count": 6,
     "metadata": {},
     "output_type": "execute_result"
    }
   ],
   "source": [
    "# YOUR CODES\n",
    "world['Year'].nunique()"
   ]
  },
  {
   "cell_type": "markdown",
   "metadata": {},
   "source": [
    "**Q1.3** What's the range of years? (3 points)"
   ]
  },
  {
   "cell_type": "code",
   "execution_count": 7,
   "metadata": {},
   "outputs": [
    {
     "name": "stdout",
     "output_type": "stream",
     "text": [
      "55\n"
     ]
    }
   ],
   "source": [
    "# YOUR CODES\n",
    "yr_range = world['Year'].max() - world['Year'].min()\n",
    "    #max: 2015, min: 1960\n",
    "print(yr_range)"
   ]
  },
  {
   "cell_type": "markdown",
   "metadata": {},
   "source": [
    "**Q1.4** How many unique indicators? (3 points)"
   ]
  },
  {
   "cell_type": "code",
   "execution_count": 8,
   "metadata": {},
   "outputs": [
    {
     "data": {
      "text/plain": [
       "1344"
      ]
     },
     "execution_count": 8,
     "metadata": {},
     "output_type": "execute_result"
    }
   ],
   "source": [
    "# YOUR CODES\n",
    "world['IndicatorCode'].nunique()"
   ]
  },
  {
   "cell_type": "markdown",
   "metadata": {},
   "source": [
    "**Q1.5** How many unique indiactors does United States have in 2000? (6 points)"
   ]
  },
  {
   "cell_type": "code",
   "execution_count": 9,
   "metadata": {},
   "outputs": [
    {
     "data": {
      "text/plain": [
       "646"
      ]
     },
     "execution_count": 9,
     "metadata": {},
     "output_type": "execute_result"
    }
   ],
   "source": [
    "# YOUR CODES\n",
    "USA_2000 = world[(world.CountryCode == 'USA') & (world.Year == 2000)]\n",
    "USA_2000['IndicatorCode'].nunique()"
   ]
  },
  {
   "cell_type": "markdown",
   "metadata": {},
   "source": [
    "## Part II: Visualizaion (60 points)"
   ]
  },
  {
   "cell_type": "markdown",
   "metadata": {},
   "source": [
    "### Let's pick a country and an indicator to explore: CO2 Emissions per capita and the USA\n",
    "\n",
    "**Q2.1** Create a new dataframe where country = United State & Indicator =  'CO2 emissions (metric tons per capita)' (10 points)\n",
    "\n",
    "Expected output: size of the dataframe and the first 5 lines of the dataframe"
   ]
  },
  {
   "cell_type": "code",
   "execution_count": 10,
   "metadata": {},
   "outputs": [
    {
     "data": {
      "text/plain": [
       "(52, 6)"
      ]
     },
     "execution_count": 10,
     "metadata": {},
     "output_type": "execute_result"
    },
    {
     "data": {
      "text/html": [
       "<div>\n",
       "<style scoped>\n",
       "    .dataframe tbody tr th:only-of-type {\n",
       "        vertical-align: middle;\n",
       "    }\n",
       "\n",
       "    .dataframe tbody tr th {\n",
       "        vertical-align: top;\n",
       "    }\n",
       "\n",
       "    .dataframe thead th {\n",
       "        text-align: right;\n",
       "    }\n",
       "</style>\n",
       "<table border=\"1\" class=\"dataframe\">\n",
       "  <thead>\n",
       "    <tr style=\"text-align: right;\">\n",
       "      <th></th>\n",
       "      <th>CountryName</th>\n",
       "      <th>CountryCode</th>\n",
       "      <th>IndicatorName</th>\n",
       "      <th>IndicatorCode</th>\n",
       "      <th>Year</th>\n",
       "      <th>Value</th>\n",
       "    </tr>\n",
       "  </thead>\n",
       "  <tbody>\n",
       "    <tr>\n",
       "      <th>22232</th>\n",
       "      <td>United States</td>\n",
       "      <td>USA</td>\n",
       "      <td>CO2 emissions (metric tons per capita)</td>\n",
       "      <td>EN.ATM.CO2E.PC</td>\n",
       "      <td>1960</td>\n",
       "      <td>15.999779</td>\n",
       "    </tr>\n",
       "    <tr>\n",
       "      <th>48708</th>\n",
       "      <td>United States</td>\n",
       "      <td>USA</td>\n",
       "      <td>CO2 emissions (metric tons per capita)</td>\n",
       "      <td>EN.ATM.CO2E.PC</td>\n",
       "      <td>1961</td>\n",
       "      <td>15.681256</td>\n",
       "    </tr>\n",
       "    <tr>\n",
       "      <th>77087</th>\n",
       "      <td>United States</td>\n",
       "      <td>USA</td>\n",
       "      <td>CO2 emissions (metric tons per capita)</td>\n",
       "      <td>EN.ATM.CO2E.PC</td>\n",
       "      <td>1962</td>\n",
       "      <td>16.013937</td>\n",
       "    </tr>\n",
       "    <tr>\n",
       "      <th>105704</th>\n",
       "      <td>United States</td>\n",
       "      <td>USA</td>\n",
       "      <td>CO2 emissions (metric tons per capita)</td>\n",
       "      <td>EN.ATM.CO2E.PC</td>\n",
       "      <td>1963</td>\n",
       "      <td>16.482762</td>\n",
       "    </tr>\n",
       "    <tr>\n",
       "      <th>134742</th>\n",
       "      <td>United States</td>\n",
       "      <td>USA</td>\n",
       "      <td>CO2 emissions (metric tons per capita)</td>\n",
       "      <td>EN.ATM.CO2E.PC</td>\n",
       "      <td>1964</td>\n",
       "      <td>16.968119</td>\n",
       "    </tr>\n",
       "  </tbody>\n",
       "</table>\n",
       "</div>"
      ],
      "text/plain": [
       "          CountryName CountryCode                           IndicatorName  \\\n",
       "22232   United States         USA  CO2 emissions (metric tons per capita)   \n",
       "48708   United States         USA  CO2 emissions (metric tons per capita)   \n",
       "77087   United States         USA  CO2 emissions (metric tons per capita)   \n",
       "105704  United States         USA  CO2 emissions (metric tons per capita)   \n",
       "134742  United States         USA  CO2 emissions (metric tons per capita)   \n",
       "\n",
       "         IndicatorCode  Year      Value  \n",
       "22232   EN.ATM.CO2E.PC  1960  15.999779  \n",
       "48708   EN.ATM.CO2E.PC  1961  15.681256  \n",
       "77087   EN.ATM.CO2E.PC  1962  16.013937  \n",
       "105704  EN.ATM.CO2E.PC  1963  16.482762  \n",
       "134742  EN.ATM.CO2E.PC  1964  16.968119  "
      ]
     },
     "execution_count": 10,
     "metadata": {},
     "output_type": "execute_result"
    }
   ],
   "source": [
    "# YOUR CODES\n",
    "df = world[(world.CountryCode == 'USA') & (world.IndicatorCode == 'EN.ATM.CO2E.PC')]\n",
    "df.shape\n",
    "df.head()"
   ]
  },
  {
   "cell_type": "markdown",
   "metadata": {},
   "source": [
    "**Q2.2** Plot the trend of CO2 emissions over time in USA (10 points)"
   ]
  },
  {
   "cell_type": "code",
   "execution_count": 11,
   "metadata": {},
   "outputs": [
    {
     "data": {
      "text/plain": [
       "[<matplotlib.lines.Line2D at 0x23a002b0cc0>]"
      ]
     },
     "execution_count": 11,
     "metadata": {},
     "output_type": "execute_result"
    },
    {
     "data": {
      "text/plain": [
       "Text(0.5, 1.0, 'Co2 emissions over time in USA')"
      ]
     },
     "execution_count": 11,
     "metadata": {},
     "output_type": "execute_result"
    },
    {
     "data": {
      "text/plain": [
       "Text(0.5, 0, 'Year')"
      ]
     },
     "execution_count": 11,
     "metadata": {},
     "output_type": "execute_result"
    },
    {
     "data": {
      "text/plain": [
       "Text(0, 0.5, 'CO2 Emissions (metric tons per capita)')"
      ]
     },
     "execution_count": 11,
     "metadata": {},
     "output_type": "execute_result"
    },
    {
     "data": {
      "image/png": "[encoded data removed]",
      "text/plain": [
       "<Figure size 432x288 with 1 Axes>"
      ]
     },
     "metadata": {
      "needs_background": "light"
     },
     "output_type": "display_data"
    }
   ],
   "source": [
    "%matplotlib inline\n",
    "\n",
    "# YOUR CODES\n",
    "plt.plot(df.Year, df.Value)\n",
    "plt.title(\"Co2 emissions over time in USA\")\n",
    "plt.xlabel(\"Year\")\n",
    "plt.ylabel(\"CO2 Emissions (metric tons per capita)\")"
   ]
  },
  {
   "cell_type": "markdown",
   "metadata": {},
   "source": [
    "### But how do the USA's numbers relate to those of other countries?"
   ]
  },
  {
   "cell_type": "markdown",
   "metadata": {},
   "source": [
    "**Q2.3** (20 points)\n",
    "\n",
    "- select CO2 emissions per capital for all countries in 2011\n",
    "- plot a histogram of the emmissions per capita by country\n",
    "- indicate the position of USA in the plot\n"
   ]
  },
  {
   "cell_type": "code",
   "execution_count": 12,
   "metadata": {},
   "outputs": [
    {
     "data": {
      "text/plain": [
       "(array([101.,  35.,  35.,  22.,  15.,   7.,   3.,   4.,   2.,   3.,   1.,\n",
       "          1.,   1.,   0.,   0.,   0.,   1.,   0.,   0.,   1.]),\n",
       " array([2.13499261e-02, 2.22122875e+00, 4.42110757e+00, 6.62098639e+00,\n",
       "        8.82086521e+00, 1.10207440e+01, 1.32206229e+01, 1.54205017e+01,\n",
       "        1.76203805e+01, 1.98202593e+01, 2.20201381e+01, 2.42200170e+01,\n",
       "        2.64198958e+01, 2.86197746e+01, 3.08196534e+01, 3.30195323e+01,\n",
       "        3.52194111e+01, 3.74192899e+01, 3.96191687e+01, 4.18190475e+01,\n",
       "        4.40189264e+01]),\n",
       " <a list of 20 Patch objects>)"
      ]
     },
     "execution_count": 12,
     "metadata": {},
     "output_type": "execute_result"
    },
    {
     "data": {
      "text/plain": [
       "Text(0.5, 0, 'CO2 Emissions')"
      ]
     },
     "execution_count": 12,
     "metadata": {},
     "output_type": "execute_result"
    },
    {
     "data": {
      "text/plain": [
       "Text(0, 0.5, '# of Countries')"
      ]
     },
     "execution_count": 12,
     "metadata": {},
     "output_type": "execute_result"
    },
    {
     "data": {
      "text/plain": [
       "Text(0.5, 1.0, 'Histogram-CO2 Emissions per Capita')"
      ]
     },
     "execution_count": 12,
     "metadata": {},
     "output_type": "execute_result"
    },
    {
     "data": {
      "text/plain": [
       "Text(17.02, 24, 'USA: 17.02')"
      ]
     },
     "execution_count": 12,
     "metadata": {},
     "output_type": "execute_result"
    },
    {
     "data": {
      "image/png": "[encoded data removed]",
      "text/plain": [
       "<Figure size 432x288 with 1 Axes>"
      ]
     },
     "metadata": {
      "needs_background": "light"
     },
     "output_type": "display_data"
    }
   ],
   "source": [
    "# YOUR CODES\n",
    "\n",
    "data = world[(world.Year == 2011) & (world.IndicatorCode == 'EN.ATM.CO2E.PC')]\n",
    "plt.hist(data['Value'], bins=20, edgecolor='black')\n",
    "plt.xlabel('CO2 Emissions')\n",
    "plt.ylabel('# of Countries')\n",
    "plt.title('Histogram-CO2 Emissions per Capita')\n",
    "plt.annotate('USA: 17.02', xy=(17.02,8), xytext=(17.02, 24),\n",
    "             arrowprops=dict(facecolor='black'))\n",
    "plt.show()\n"
   ]
  },
  {
   "cell_type": "markdown",
   "metadata": {},
   "source": [
    "### ScatterPlot for comparing GDP against CO2 emissions (per capita) in USA"
   ]
  },
  {
   "cell_type": "markdown",
   "metadata": {},
   "source": [
    "**Q2.4** (20 points)\n",
    "\n",
    "- Select GDP Per capital for USA (Indicator = 'GDP per capita (constant 2005 US$)')\n",
    "- Use a scattor plot to explore the relationship between GDP and CO2 emissions\n",
    "\n",
    "Hint: before plotting, you have to make sure that the two measures cover the same period of time"
   ]
  },
  {
   "cell_type": "code",
   "execution_count": 13,
   "metadata": {},
   "outputs": [
    {
     "data": {
      "text/plain": [
       "<bound method Series.min of 22282      1960\n",
       "48759      1961\n",
       "77142      1962\n",
       "105760     1963\n",
       "134798     1964\n",
       "166730     1965\n",
       "198096     1966\n",
       "230814     1967\n",
       "263369     1968\n",
       "296354     1969\n",
       "358010     1970\n",
       "425989     1971\n",
       "495783     1972\n",
       "565205     1973\n",
       "635285     1974\n",
       "707764     1975\n",
       "781179     1976\n",
       "856837     1977\n",
       "932497     1978\n",
       "1008328    1979\n",
       "1089607    1980\n",
       "1173536    1981\n",
       "1258738    1982\n",
       "1343992    1983\n",
       "1429895    1984\n",
       "1517335    1985\n",
       "1605202    1986\n",
       "1694598    1987\n",
       "1784067    1988\n",
       "1876583    1989\n",
       "1992875    1990\n",
       "2108826    1991\n",
       "2230117    1992\n",
       "2353864    1993\n",
       "2479530    1994\n",
       "2613859    1995\n",
       "2748826    1996\n",
       "2885119    1997\n",
       "3022452    1998\n",
       "3164380    1999\n",
       "3319022    2000\n",
       "3469669    2001\n",
       "3624311    2002\n",
       "3778080    2003\n",
       "3935823    2004\n",
       "4115443    2005\n",
       "4292637    2006\n",
       "4472959    2007\n",
       "4652803    2008\n",
       "4831465    2009\n",
       "5018182    2010\n",
       "5194861    2011\n",
       "5370008    2012\n",
       "5527438    2013\n",
       "5637323    2014\n",
       "Name: Year, dtype: int64>"
      ]
     },
     "execution_count": 13,
     "metadata": {},
     "output_type": "execute_result"
    },
    {
     "data": {
      "text/plain": [
       "<bound method Series.min of 22232      1960\n",
       "48708      1961\n",
       "77087      1962\n",
       "105704     1963\n",
       "134742     1964\n",
       "166672     1965\n",
       "198040     1966\n",
       "230758     1967\n",
       "263313     1968\n",
       "296298     1969\n",
       "357938     1970\n",
       "425914     1971\n",
       "495708     1972\n",
       "565132     1973\n",
       "635210     1974\n",
       "707686     1975\n",
       "781101     1976\n",
       "856760     1977\n",
       "932420     1978\n",
       "1008251    1979\n",
       "1089510    1980\n",
       "1173439    1981\n",
       "1258640    1982\n",
       "1343895    1983\n",
       "1429798    1984\n",
       "1517238    1985\n",
       "1605105    1986\n",
       "1694501    1987\n",
       "1783972    1988\n",
       "1876489    1989\n",
       "1992771    1990\n",
       "2108719    1991\n",
       "2230012    1992\n",
       "2353757    1993\n",
       "2479423    1994\n",
       "2613751    1995\n",
       "2748720    1996\n",
       "2885015    1997\n",
       "3022340    1998\n",
       "3164265    1999\n",
       "3318907    2000\n",
       "3469547    2001\n",
       "3624184    2002\n",
       "3777954    2003\n",
       "3935696    2004\n",
       "4115299    2005\n",
       "4292492    2006\n",
       "4472814    2007\n",
       "4652656    2008\n",
       "4831320    2009\n",
       "5018038    2010\n",
       "5194727    2011\n",
       "Name: Year, dtype: int64>"
      ]
     },
     "execution_count": 13,
     "metadata": {},
     "output_type": "execute_result"
    },
    {
     "data": {
      "text/plain": [
       "<bound method Series.min of 22282      1960\n",
       "48759      1961\n",
       "77142      1962\n",
       "105760     1963\n",
       "134798     1964\n",
       "166730     1965\n",
       "198096     1966\n",
       "230814     1967\n",
       "263369     1968\n",
       "296354     1969\n",
       "358010     1970\n",
       "425989     1971\n",
       "495783     1972\n",
       "565205     1973\n",
       "635285     1974\n",
       "707764     1975\n",
       "781179     1976\n",
       "856837     1977\n",
       "932497     1978\n",
       "1008328    1979\n",
       "1089607    1980\n",
       "1173536    1981\n",
       "1258738    1982\n",
       "1343992    1983\n",
       "1429895    1984\n",
       "1517335    1985\n",
       "1605202    1986\n",
       "1694598    1987\n",
       "1784067    1988\n",
       "1876583    1989\n",
       "1992875    1990\n",
       "2108826    1991\n",
       "2230117    1992\n",
       "2353864    1993\n",
       "2479530    1994\n",
       "2613859    1995\n",
       "2748826    1996\n",
       "2885119    1997\n",
       "3022452    1998\n",
       "3164380    1999\n",
       "3319022    2000\n",
       "3469669    2001\n",
       "3624311    2002\n",
       "3778080    2003\n",
       "3935823    2004\n",
       "4115443    2005\n",
       "4292637    2006\n",
       "4472959    2007\n",
       "4652803    2008\n",
       "4831465    2009\n",
       "5018182    2010\n",
       "5194861    2011\n",
       "Name: Year, dtype: int64>"
      ]
     },
     "execution_count": 13,
     "metadata": {},
     "output_type": "execute_result"
    },
    {
     "data": {
      "text/plain": [
       "<matplotlib.collections.PathCollection at 0x23a003f9278>"
      ]
     },
     "execution_count": 13,
     "metadata": {},
     "output_type": "execute_result"
    },
    {
     "data": {
      "image/png": "[encoded data removed]",
      "text/plain": [
       "<Figure size 432x288 with 1 Axes>"
      ]
     },
     "metadata": {
      "needs_background": "light"
     },
     "output_type": "display_data"
    }
   ],
   "source": [
    "# YOUR CODES\n",
    "#creating new data frames\n",
    "data2 = world[(world.CountryCode=='USA') & \n",
    "              (world.IndicatorName == 'GDP per capita (constant 2005 US$)')]\n",
    "data3 = world[(world.CountryCode=='USA') & \n",
    "              (world.IndicatorCode == 'EN.ATM.CO2E.PC')]\n",
    "\n",
    "#printing out the year columns to see the min, max\n",
    "data2['Year'].min\n",
    "data3['Year'].min\n",
    "\n",
    "#splice data2 to only include up to 2011\n",
    "data2 = data2[0:52]\n",
    "\n",
    "#printing data2 again to confirm it only goes up to year 2011\n",
    "data2['Year'].min\n",
    "\n",
    "plt.scatter(data2['Value'],data3['Value'])\n"
   ]
  },
  {
   "cell_type": "markdown",
   "metadata": {},
   "source": [
    "## Part III: We are missing data (22 points)"
   ]
  },
  {
   "cell_type": "markdown",
   "metadata": {},
   "source": [
    "The above analyses have suggested that not all countries have all indicators for all years. Thus, let's pick indicators and countries which have data over the same time range"
   ]
  },
  {
   "cell_type": "code",
   "execution_count": 14,
   "metadata": {},
   "outputs": [],
   "source": [
    "# range of the three variables\n",
    "\n",
    "countries_list = world['CountryName'].unique().tolist()\n",
    "indicators_list = world['IndicatorName'].unique().tolist()\n",
    "\n",
    "yearfilter = range(2000,2012)"
   ]
  },
  {
   "cell_type": "markdown",
   "metadata": {},
   "source": [
    "**Q3.1** write a program to find **TWO** countries from **countries_list** and **ONE** indicator from **indicators_list** so that the selected two countries have records of the indicator from 2000 to 2011 (the time range is defined in **yearfilter**). (16 points)\n",
    "\n",
    "For example, both Bermuda and Costa Rica have records of the indicator \"Merchandise exports to developing economies outside region (% of total merchandise exports)\" from 2000 to 2011.\n",
    "\n",
    "Hint: https://pandas.pydata.org/pandas-docs/stable/reference/api/pandas.DataFrame.isin.html\n",
    "\n",
    "Expected output:\n",
    "- Two dataframe, indicating the two countries separately\n",
    "- The two dataframe only include data with the specific indicator\n",
    "- Both dataframe cover the same period of time from 2000 to 2011"
   ]
  },
  {
   "cell_type": "code",
   "execution_count": 15,
   "metadata": {},
   "outputs": [
    {
     "data": {
      "text/html": [
       "<div>\n",
       "<style scoped>\n",
       "    .dataframe tbody tr th:only-of-type {\n",
       "        vertical-align: middle;\n",
       "    }\n",
       "\n",
       "    .dataframe tbody tr th {\n",
       "        vertical-align: top;\n",
       "    }\n",
       "\n",
       "    .dataframe thead th {\n",
       "        text-align: right;\n",
       "    }\n",
       "</style>\n",
       "<table border=\"1\" class=\"dataframe\">\n",
       "  <thead>\n",
       "    <tr style=\"text-align: right;\">\n",
       "      <th></th>\n",
       "      <th>CountryName</th>\n",
       "      <th>CountryCode</th>\n",
       "      <th>IndicatorName</th>\n",
       "      <th>IndicatorCode</th>\n",
       "      <th>Year</th>\n",
       "      <th>Value</th>\n",
       "    </tr>\n",
       "  </thead>\n",
       "  <tbody>\n",
       "    <tr>\n",
       "      <th>3194185</th>\n",
       "      <td>Argentina</td>\n",
       "      <td>ARG</td>\n",
       "      <td>Poverty gap at $1.90 a day (2011 PPP) (%)</td>\n",
       "      <td>SI.POV.GAPS</td>\n",
       "      <td>2000</td>\n",
       "      <td>2.93</td>\n",
       "    </tr>\n",
       "    <tr>\n",
       "      <th>3347673</th>\n",
       "      <td>Argentina</td>\n",
       "      <td>ARG</td>\n",
       "      <td>Poverty gap at $1.90 a day (2011 PPP) (%)</td>\n",
       "      <td>SI.POV.GAPS</td>\n",
       "      <td>2001</td>\n",
       "      <td>4.90</td>\n",
       "    </tr>\n",
       "    <tr>\n",
       "      <th>3498691</th>\n",
       "      <td>Argentina</td>\n",
       "      <td>ARG</td>\n",
       "      <td>Poverty gap at $1.90 a day (2011 PPP) (%)</td>\n",
       "      <td>SI.POV.GAPS</td>\n",
       "      <td>2002</td>\n",
       "      <td>5.59</td>\n",
       "    </tr>\n",
       "    <tr>\n",
       "      <th>3653645</th>\n",
       "      <td>Argentina</td>\n",
       "      <td>ARG</td>\n",
       "      <td>Poverty gap at $1.90 a day (2011 PPP) (%)</td>\n",
       "      <td>SI.POV.GAPS</td>\n",
       "      <td>2003</td>\n",
       "      <td>4.85</td>\n",
       "    </tr>\n",
       "    <tr>\n",
       "      <th>3807546</th>\n",
       "      <td>Argentina</td>\n",
       "      <td>ARG</td>\n",
       "      <td>Poverty gap at $1.90 a day (2011 PPP) (%)</td>\n",
       "      <td>SI.POV.GAPS</td>\n",
       "      <td>2004</td>\n",
       "      <td>3.16</td>\n",
       "    </tr>\n",
       "    <tr>\n",
       "      <th>3969354</th>\n",
       "      <td>Argentina</td>\n",
       "      <td>ARG</td>\n",
       "      <td>Poverty gap at $1.90 a day (2011 PPP) (%)</td>\n",
       "      <td>SI.POV.GAPS</td>\n",
       "      <td>2005</td>\n",
       "      <td>2.27</td>\n",
       "    </tr>\n",
       "    <tr>\n",
       "      <th>4149265</th>\n",
       "      <td>Argentina</td>\n",
       "      <td>ARG</td>\n",
       "      <td>Poverty gap at $1.90 a day (2011 PPP) (%)</td>\n",
       "      <td>SI.POV.GAPS</td>\n",
       "      <td>2006</td>\n",
       "      <td>1.91</td>\n",
       "    </tr>\n",
       "    <tr>\n",
       "      <th>4327040</th>\n",
       "      <td>Argentina</td>\n",
       "      <td>ARG</td>\n",
       "      <td>Poverty gap at $1.90 a day (2011 PPP) (%)</td>\n",
       "      <td>SI.POV.GAPS</td>\n",
       "      <td>2007</td>\n",
       "      <td>1.77</td>\n",
       "    </tr>\n",
       "    <tr>\n",
       "      <th>4507470</th>\n",
       "      <td>Argentina</td>\n",
       "      <td>ARG</td>\n",
       "      <td>Poverty gap at $1.90 a day (2011 PPP) (%)</td>\n",
       "      <td>SI.POV.GAPS</td>\n",
       "      <td>2008</td>\n",
       "      <td>1.43</td>\n",
       "    </tr>\n",
       "    <tr>\n",
       "      <th>4687003</th>\n",
       "      <td>Argentina</td>\n",
       "      <td>ARG</td>\n",
       "      <td>Poverty gap at $1.90 a day (2011 PPP) (%)</td>\n",
       "      <td>SI.POV.GAPS</td>\n",
       "      <td>2009</td>\n",
       "      <td>1.49</td>\n",
       "    </tr>\n",
       "    <tr>\n",
       "      <th>4867199</th>\n",
       "      <td>Argentina</td>\n",
       "      <td>ARG</td>\n",
       "      <td>Poverty gap at $1.90 a day (2011 PPP) (%)</td>\n",
       "      <td>SI.POV.GAPS</td>\n",
       "      <td>2010</td>\n",
       "      <td>0.97</td>\n",
       "    </tr>\n",
       "    <tr>\n",
       "      <th>5052369</th>\n",
       "      <td>Argentina</td>\n",
       "      <td>ARG</td>\n",
       "      <td>Poverty gap at $1.90 a day (2011 PPP) (%)</td>\n",
       "      <td>SI.POV.GAPS</td>\n",
       "      <td>2011</td>\n",
       "      <td>0.83</td>\n",
       "    </tr>\n",
       "  </tbody>\n",
       "</table>\n",
       "</div>"
      ],
      "text/plain": [
       "        CountryName CountryCode                              IndicatorName  \\\n",
       "3194185   Argentina         ARG  Poverty gap at $1.90 a day (2011 PPP) (%)   \n",
       "3347673   Argentina         ARG  Poverty gap at $1.90 a day (2011 PPP) (%)   \n",
       "3498691   Argentina         ARG  Poverty gap at $1.90 a day (2011 PPP) (%)   \n",
       "3653645   Argentina         ARG  Poverty gap at $1.90 a day (2011 PPP) (%)   \n",
       "3807546   Argentina         ARG  Poverty gap at $1.90 a day (2011 PPP) (%)   \n",
       "3969354   Argentina         ARG  Poverty gap at $1.90 a day (2011 PPP) (%)   \n",
       "4149265   Argentina         ARG  Poverty gap at $1.90 a day (2011 PPP) (%)   \n",
       "4327040   Argentina         ARG  Poverty gap at $1.90 a day (2011 PPP) (%)   \n",
       "4507470   Argentina         ARG  Poverty gap at $1.90 a day (2011 PPP) (%)   \n",
       "4687003   Argentina         ARG  Poverty gap at $1.90 a day (2011 PPP) (%)   \n",
       "4867199   Argentina         ARG  Poverty gap at $1.90 a day (2011 PPP) (%)   \n",
       "5052369   Argentina         ARG  Poverty gap at $1.90 a day (2011 PPP) (%)   \n",
       "\n",
       "        IndicatorCode  Year  Value  \n",
       "3194185   SI.POV.GAPS  2000   2.93  \n",
       "3347673   SI.POV.GAPS  2001   4.90  \n",
       "3498691   SI.POV.GAPS  2002   5.59  \n",
       "3653645   SI.POV.GAPS  2003   4.85  \n",
       "3807546   SI.POV.GAPS  2004   3.16  \n",
       "3969354   SI.POV.GAPS  2005   2.27  \n",
       "4149265   SI.POV.GAPS  2006   1.91  \n",
       "4327040   SI.POV.GAPS  2007   1.77  \n",
       "4507470   SI.POV.GAPS  2008   1.43  \n",
       "4687003   SI.POV.GAPS  2009   1.49  \n",
       "4867199   SI.POV.GAPS  2010   0.97  \n",
       "5052369   SI.POV.GAPS  2011   0.83  "
      ]
     },
     "execution_count": 15,
     "metadata": {},
     "output_type": "execute_result"
    },
    {
     "data": {
      "text/html": [
       "<div>\n",
       "<style scoped>\n",
       "    .dataframe tbody tr th:only-of-type {\n",
       "        vertical-align: middle;\n",
       "    }\n",
       "\n",
       "    .dataframe tbody tr th {\n",
       "        vertical-align: top;\n",
       "    }\n",
       "\n",
       "    .dataframe thead th {\n",
       "        text-align: right;\n",
       "    }\n",
       "</style>\n",
       "<table border=\"1\" class=\"dataframe\">\n",
       "  <thead>\n",
       "    <tr style=\"text-align: right;\">\n",
       "      <th></th>\n",
       "      <th>CountryName</th>\n",
       "      <th>CountryCode</th>\n",
       "      <th>IndicatorName</th>\n",
       "      <th>IndicatorCode</th>\n",
       "      <th>Year</th>\n",
       "      <th>Value</th>\n",
       "    </tr>\n",
       "  </thead>\n",
       "  <tbody>\n",
       "    <tr>\n",
       "      <th>3230549</th>\n",
       "      <td>Estonia</td>\n",
       "      <td>EST</td>\n",
       "      <td>Poverty gap at $1.90 a day (2011 PPP) (%)</td>\n",
       "      <td>SI.POV.GAPS</td>\n",
       "      <td>2000</td>\n",
       "      <td>0.28</td>\n",
       "    </tr>\n",
       "    <tr>\n",
       "      <th>3383325</th>\n",
       "      <td>Estonia</td>\n",
       "      <td>EST</td>\n",
       "      <td>Poverty gap at $1.90 a day (2011 PPP) (%)</td>\n",
       "      <td>SI.POV.GAPS</td>\n",
       "      <td>2001</td>\n",
       "      <td>0.29</td>\n",
       "    </tr>\n",
       "    <tr>\n",
       "      <th>3535482</th>\n",
       "      <td>Estonia</td>\n",
       "      <td>EST</td>\n",
       "      <td>Poverty gap at $1.90 a day (2011 PPP) (%)</td>\n",
       "      <td>SI.POV.GAPS</td>\n",
       "      <td>2002</td>\n",
       "      <td>0.30</td>\n",
       "    </tr>\n",
       "    <tr>\n",
       "      <th>3689831</th>\n",
       "      <td>Estonia</td>\n",
       "      <td>EST</td>\n",
       "      <td>Poverty gap at $1.90 a day (2011 PPP) (%)</td>\n",
       "      <td>SI.POV.GAPS</td>\n",
       "      <td>2003</td>\n",
       "      <td>0.21</td>\n",
       "    </tr>\n",
       "    <tr>\n",
       "      <th>3844684</th>\n",
       "      <td>Estonia</td>\n",
       "      <td>EST</td>\n",
       "      <td>Poverty gap at $1.90 a day (2011 PPP) (%)</td>\n",
       "      <td>SI.POV.GAPS</td>\n",
       "      <td>2004</td>\n",
       "      <td>0.13</td>\n",
       "    </tr>\n",
       "    <tr>\n",
       "      <th>4011780</th>\n",
       "      <td>Estonia</td>\n",
       "      <td>EST</td>\n",
       "      <td>Poverty gap at $1.90 a day (2011 PPP) (%)</td>\n",
       "      <td>SI.POV.GAPS</td>\n",
       "      <td>2005</td>\n",
       "      <td>0.92</td>\n",
       "    </tr>\n",
       "    <tr>\n",
       "      <th>4190894</th>\n",
       "      <td>Estonia</td>\n",
       "      <td>EST</td>\n",
       "      <td>Poverty gap at $1.90 a day (2011 PPP) (%)</td>\n",
       "      <td>SI.POV.GAPS</td>\n",
       "      <td>2006</td>\n",
       "      <td>0.62</td>\n",
       "    </tr>\n",
       "    <tr>\n",
       "      <th>4369621</th>\n",
       "      <td>Estonia</td>\n",
       "      <td>EST</td>\n",
       "      <td>Poverty gap at $1.90 a day (2011 PPP) (%)</td>\n",
       "      <td>SI.POV.GAPS</td>\n",
       "      <td>2007</td>\n",
       "      <td>0.38</td>\n",
       "    </tr>\n",
       "    <tr>\n",
       "      <th>4549897</th>\n",
       "      <td>Estonia</td>\n",
       "      <td>EST</td>\n",
       "      <td>Poverty gap at $1.90 a day (2011 PPP) (%)</td>\n",
       "      <td>SI.POV.GAPS</td>\n",
       "      <td>2008</td>\n",
       "      <td>0.42</td>\n",
       "    </tr>\n",
       "    <tr>\n",
       "      <th>4729302</th>\n",
       "      <td>Estonia</td>\n",
       "      <td>EST</td>\n",
       "      <td>Poverty gap at $1.90 a day (2011 PPP) (%)</td>\n",
       "      <td>SI.POV.GAPS</td>\n",
       "      <td>2009</td>\n",
       "      <td>0.66</td>\n",
       "    </tr>\n",
       "    <tr>\n",
       "      <th>4911331</th>\n",
       "      <td>Estonia</td>\n",
       "      <td>EST</td>\n",
       "      <td>Poverty gap at $1.90 a day (2011 PPP) (%)</td>\n",
       "      <td>SI.POV.GAPS</td>\n",
       "      <td>2010</td>\n",
       "      <td>0.99</td>\n",
       "    </tr>\n",
       "    <tr>\n",
       "      <th>5093895</th>\n",
       "      <td>Estonia</td>\n",
       "      <td>EST</td>\n",
       "      <td>Poverty gap at $1.90 a day (2011 PPP) (%)</td>\n",
       "      <td>SI.POV.GAPS</td>\n",
       "      <td>2011</td>\n",
       "      <td>1.17</td>\n",
       "    </tr>\n",
       "  </tbody>\n",
       "</table>\n",
       "</div>"
      ],
      "text/plain": [
       "        CountryName CountryCode                              IndicatorName  \\\n",
       "3230549     Estonia         EST  Poverty gap at $1.90 a day (2011 PPP) (%)   \n",
       "3383325     Estonia         EST  Poverty gap at $1.90 a day (2011 PPP) (%)   \n",
       "3535482     Estonia         EST  Poverty gap at $1.90 a day (2011 PPP) (%)   \n",
       "3689831     Estonia         EST  Poverty gap at $1.90 a day (2011 PPP) (%)   \n",
       "3844684     Estonia         EST  Poverty gap at $1.90 a day (2011 PPP) (%)   \n",
       "4011780     Estonia         EST  Poverty gap at $1.90 a day (2011 PPP) (%)   \n",
       "4190894     Estonia         EST  Poverty gap at $1.90 a day (2011 PPP) (%)   \n",
       "4369621     Estonia         EST  Poverty gap at $1.90 a day (2011 PPP) (%)   \n",
       "4549897     Estonia         EST  Poverty gap at $1.90 a day (2011 PPP) (%)   \n",
       "4729302     Estonia         EST  Poverty gap at $1.90 a day (2011 PPP) (%)   \n",
       "4911331     Estonia         EST  Poverty gap at $1.90 a day (2011 PPP) (%)   \n",
       "5093895     Estonia         EST  Poverty gap at $1.90 a day (2011 PPP) (%)   \n",
       "\n",
       "        IndicatorCode  Year  Value  \n",
       "3230549   SI.POV.GAPS  2000   0.28  \n",
       "3383325   SI.POV.GAPS  2001   0.29  \n",
       "3535482   SI.POV.GAPS  2002   0.30  \n",
       "3689831   SI.POV.GAPS  2003   0.21  \n",
       "3844684   SI.POV.GAPS  2004   0.13  \n",
       "4011780   SI.POV.GAPS  2005   0.92  \n",
       "4190894   SI.POV.GAPS  2006   0.62  \n",
       "4369621   SI.POV.GAPS  2007   0.38  \n",
       "4549897   SI.POV.GAPS  2008   0.42  \n",
       "4729302   SI.POV.GAPS  2009   0.66  \n",
       "4911331   SI.POV.GAPS  2010   0.99  \n",
       "5093895   SI.POV.GAPS  2011   1.17  "
      ]
     },
     "execution_count": 15,
     "metadata": {},
     "output_type": "execute_result"
    }
   ],
   "source": [
    "import random\n",
    "random.seed(25) # generate the same random number every time\n",
    "\n",
    "# YOUR CODES\n",
    "\n",
    "    #picking random indicator from indicators_list\n",
    "random_indic = random.choice(indicators_list)\n",
    "\n",
    "#new data frame that only includes years in the specified range\n",
    "data4 = world[(world[\"Year\"].isin(yearfilter))]\n",
    "\n",
    "#another new dataframe that only includes specified indicator\n",
    "data5 = data4[(data4[\"IndicatorName\"] == random_indic)]\n",
    "    #data5 - has info for specified indicator, all countries, & only yrs 2000-2011\n",
    "\n",
    "#grouping by country. only returns countries that have values present for each yr bc of the query part.\n",
    "    #we only want countries that have a value of 12\n",
    "complete = data5.groupby(\"CountryName\").count().query(\"Value == {}\".format(len(yearfilter)))\n",
    "    #len(complete)\n",
    "    #final list of countries has length of 18 (at least for this random seed)\n",
    "\n",
    "    #indexing, then turning into list\n",
    "complete2 = complete.index[:].tolist()\n",
    "\n",
    "    #randomly picking 2 countries from complete2\n",
    "country_a = random.choice(complete2)\n",
    "country_b = random.choice(complete2)\n",
    "\n",
    "    #creating dataframe of just those 2 countries\n",
    "country_a_df = data5[data5.CountryName == country_a]\n",
    "country_b_df = data5[data5.CountryName == country_b]\n",
    "\n",
    "country_a_df\n",
    "country_b_df"
   ]
  },
  {
   "cell_type": "markdown",
   "metadata": {},
   "source": [
    "**Q3.2** Plot the correlation of the two countries with the selected indicator (scatter plots) (6 points)"
   ]
  },
  {
   "cell_type": "code",
   "execution_count": 16,
   "metadata": {},
   "outputs": [
    {
     "data": {
      "text/plain": [
       "<matplotlib.collections.PathCollection at 0x23a004ceda0>"
      ]
     },
     "execution_count": 16,
     "metadata": {},
     "output_type": "execute_result"
    },
    {
     "data": {
      "text/plain": [
       "Text(0.5, 0, 'Country A Value')"
      ]
     },
     "execution_count": 16,
     "metadata": {},
     "output_type": "execute_result"
    },
    {
     "data": {
      "text/plain": [
       "Text(0, 0.5, 'Country B Value')"
      ]
     },
     "execution_count": 16,
     "metadata": {},
     "output_type": "execute_result"
    },
    {
     "data": {
      "text/plain": [
       "Text(0.5, 1.0, 'Correlation between Country A and Country B Values')"
      ]
     },
     "execution_count": 16,
     "metadata": {},
     "output_type": "execute_result"
    },
    {
     "data": {
      "image/png": "[encoded data removed]",
      "text/plain": [
       "<Figure size 432x288 with 1 Axes>"
      ]
     },
     "metadata": {
      "needs_background": "light"
     },
     "output_type": "display_data"
    }
   ],
   "source": [
    "# YOUR CODES\n",
    "\n",
    "#merging data sets first\n",
    "final = country_a_df.merge(country_b_df, on = [\"Year\"])\n",
    "\n",
    "plt.scatter(final[\"Value_x\"], final[\"Value_y\"])\n",
    "plt.xlabel(\"Country A Value\")\n",
    "plt.ylabel(\"Country B Value\")\n",
    "plt.title(\"Correlation between Country A and Country B Values\")\n"
   ]
  }
 ],
 "metadata": {
  "kernelspec": {
   "display_name": "Python 3",
   "language": "python",
   "name": "python3"
  },
  "language_info": {
   "codemirror_mode": {
    "name": "ipython",
    "version": 3
   },
   "file_extension": ".py",
   "mimetype": "text/x-python",
   "name": "python",
   "nbconvert_exporter": "python",
   "pygments_lexer": "ipython3",
   "version": "3.7.4"
  }
 },
 "nbformat": 4,
 "nbformat_minor": 2
}
